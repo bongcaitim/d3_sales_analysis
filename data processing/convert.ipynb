{
 "cells": [
  {
   "cell_type": "code",
   "execution_count": 2,
   "metadata": {},
   "outputs": [
    {
     "name": "stderr",
     "output_type": "stream",
     "text": [
      "C:\\Users\\ADMIN\\AppData\\Local\\Temp\\ipykernel_12836\\1994862024.py:11: FutureWarning: DataFrame.applymap has been deprecated. Use DataFrame.map instead.\n",
      "  df = df.applymap(lambda x: x.isoformat() if isinstance(x, pd.Timestamp) else x)\n"
     ]
    },
    {
     "name": "stdout",
     "output_type": "stream",
     "text": [
      "Conversion from XLSX to JSON completed successfully.\n"
     ]
    }
   ],
   "source": [
    "import pandas as pd\n",
    "import json\n",
    "\n",
    "# Load the Excel file\n",
    "excel_file = 'data.xlsx'\n",
    "\n",
    "# Read the first sheet of the Excel file into a DataFrame\n",
    "df = pd.read_excel(excel_file, sheet_name='data')\n",
    "\n",
    "# Convert the Timestamps to strings\n",
    "df = df.applymap(lambda x: x.isoformat() if isinstance(x, pd.Timestamp) else x)\n",
    "\n",
    "# Convert the DataFrame to a list of dictionaries\n",
    "data = df.to_dict(orient='records')\n",
    "\n",
    "# Write the list of dictionaries to a JSON file\n",
    "with open('..\\data.json', 'w', encoding='utf-8') as json_file:\n",
    "    json.dump(data, json_file, ensure_ascii=False, indent=2)\n",
    "\n",
    "print(\"Conversion from XLSX to JSON completed successfully.\")\n"
   ]
  }
 ],
 "metadata": {
  "kernelspec": {
   "display_name": "Python 3",
   "language": "python",
   "name": "python3"
  },
  "language_info": {
   "codemirror_mode": {
    "name": "ipython",
    "version": 3
   },
   "file_extension": ".py",
   "mimetype": "text/x-python",
   "name": "python",
   "nbconvert_exporter": "python",
   "pygments_lexer": "ipython3",
   "version": "3.11.0"
  }
 },
 "nbformat": 4,
 "nbformat_minor": 2
}
